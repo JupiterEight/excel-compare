{
 "cells": [
  {
   "cell_type": "code",
   "execution_count": 79,
   "id": "0c621193-af7e-444c-8cc1-1ecf1e6dcb79",
   "metadata": {},
   "outputs": [],
   "source": [
    "## Import Pandas and OS Libraries\n",
    "## Program to compare Excel Spreadsheets\n",
    "\n",
    "import pandas as pd\n",
    "import os\n",
    "import sqlite3 as sql\n",
    "import numpy as np\n",
    "\n",
    "## report diffs function below\n",
    "\n",
    "def diff(x):\n",
    "    return x[0] if x[0] == x[1] else '{} ---> {}'.format(*x)\n",
    "\n",
    "## Define Read Excel as a Dataframe named Book 1\n",
    "\n",
    "bk1 = pd.read_excel('PriceA.xlsx')\n",
    "bk2 = pd.read_excel('PriceB.xlsx')\n",
    "\n",
    "## Label old and new cells\n",
    "\n",
    "bk1['Version'] = \"Old\"\n",
    "bk2['Version'] = \"New\"\n",
    "\n",
    "## combine data into new table\n",
    "\n",
    "fullset = pd.concat([bk1,bk2],ignore_index=True)\n",
    "fullset.dropna(how='all', axis='columns', inplace=True)\n",
    "\n",
    "## Drop No Changes\n",
    "\n",
    "changes = fullset.drop_duplicates(subset=[\"A\",\"B\",\"C\"])\n",
    "\n",
    "## output table with diffs and colors\n",
    "\n",
    "finalset=changes.style.applymap(lambda x: \"background-color: pink\" if x==\"Old\" else \"background-color: white\")\n",
    "\n",
    "## Write to the same excel file\n",
    "\n",
    "with pd.ExcelWriter(\"/Users/macpro/data.xlsx\") as writer:\n",
    "\n",
    "    bk1.to_excel(writer, sheet_name=\"Sheet 1\")\n",
    "    bk2.to_excel(writer, sheet_name=\"Sheet 2\")\n",
    "    finalset.to_excel(writer, sheet_name=\"Sheet 3\")\n",
    "    \n",
    "\n"
   ]
  },
  {
   "cell_type": "code",
   "execution_count": null,
   "id": "5d8a79ae-66a7-424f-88b2-f1165bb0d5ca",
   "metadata": {},
   "outputs": [],
   "source": []
  },
  {
   "cell_type": "code",
   "execution_count": null,
   "id": "035406f0-6b74-4005-b560-47e503848dc1",
   "metadata": {},
   "outputs": [],
   "source": []
  }
 ],
 "metadata": {
  "kernelspec": {
   "display_name": "Python 3",
   "language": "python",
   "name": "python3"
  },
  "language_info": {
   "codemirror_mode": {
    "name": "ipython",
    "version": 3
   },
   "file_extension": ".py",
   "mimetype": "text/x-python",
   "name": "python",
   "nbconvert_exporter": "python",
   "pygments_lexer": "ipython3",
   "version": "3.8.8"
  }
 },
 "nbformat": 4,
 "nbformat_minor": 5
}
