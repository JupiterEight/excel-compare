{
 "cells": [
  {
   "cell_type": "code",
   "execution_count": null,
   "id": "0c621193-af7e-444c-8cc1-1ecf1e6dcb79",
   "metadata": {},
   "outputs": [],
   "source": [
    "#Import Pandas and OS Libraries\n",
    "#Program to compare Excel Spreadsheets\n",
    "\n",
    "import pandas as pd\n",
    "import os\n",
    "import sqlite3 as sql\n",
    "import numpy as np\n",
    "\n",
    "#Define Read Excel as a Dataframe named Book 1\n",
    "\n",
    "bk1 = pd.read_excel('PriceA.xlsx')\n",
    "bk2 = pd.read_excel('PriceB.xlsx')\n",
    "\n",
    "#Push Book 1 to Database\n",
    "\n",
    "conn = sql.connect('book1.db')\n",
    "bk1.to_sql('book1', conn)\n",
    "\n",
    "#Read Book1 from db then print to console\n",
    "\n",
    "readbk1 = pd.read_sql('SELECT * FROM book1', conn)\n",
    "\n",
    "print(readbk1)\n",
    "\n",
    "comparison_values = bk1.values == bk2.values\n",
    "print(comparison_values)"
   ]
  },
  {
   "cell_type": "code",
   "execution_count": null,
   "id": "3ee21b23-2899-46b6-987b-8d6f04ce409c",
   "metadata": {},
   "outputs": [],
   "source": []
  },
  {
   "cell_type": "code",
   "execution_count": null,
   "id": "0176a7c6-b3c1-41f9-95b4-b045f5d22789",
   "metadata": {},
   "outputs": [],
   "source": []
  }
 ],
 "metadata": {
  "kernelspec": {
   "display_name": "Python 3",
   "language": "python",
   "name": "python3"
  },
  "language_info": {
   "codemirror_mode": {
    "name": "ipython",
    "version": 3
   },
   "file_extension": ".py",
   "mimetype": "text/x-python",
   "name": "python",
   "nbconvert_exporter": "python",
   "pygments_lexer": "ipython3",
   "version": "3.8.8"
  }
 },
 "nbformat": 4,
 "nbformat_minor": 5
}
